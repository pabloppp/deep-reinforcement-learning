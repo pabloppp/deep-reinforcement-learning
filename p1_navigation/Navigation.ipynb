{
 "cells": [
  {
   "cell_type": "markdown",
   "metadata": {},
   "source": [
    "# Navigation\n",
    "\n",
    "---\n",
    "\n",
    "You are welcome to use this coding environment to train your agent for the project.  Follow the instructions below to get started!\n",
    "\n",
    "### 1. Start the Environment"
   ]
  },
  {
   "cell_type": "markdown",
   "metadata": {},
   "source": [
    "The environment is already saved in the Workspace and can be accessed at the file path provided below.  Please run the next code cell without making any changes."
   ]
  },
  {
   "cell_type": "code",
   "execution_count": 1,
   "metadata": {},
   "outputs": [
    {
     "name": "stderr",
     "output_type": "stream",
     "text": [
      "INFO:unityagents:\n",
      "'Academy' started successfully!\n",
      "Unity Academy name: Academy\n",
      "        Number of Brains: 1\n",
      "        Number of External Brains : 1\n",
      "        Lesson number : 0\n",
      "        Reset Parameters :\n",
      "\t\t\n",
      "Unity brain name: BananaBrain\n",
      "        Number of Visual Observations (per agent): 0\n",
      "        Vector Observation space type: continuous\n",
      "        Vector Observation space size (per agent): 37\n",
      "        Number of stacked Vector Observation: 1\n",
      "        Vector Action space type: discrete\n",
      "        Vector Action space size (per agent): 4\n",
      "        Vector Action descriptions: , , , \n"
     ]
    }
   ],
   "source": [
    "from unityagents import UnityEnvironment\n",
    "import numpy as np\n",
    "\n",
    "# please do not modify the line below\n",
    "env = UnityEnvironment(file_name=\"Banana\")"
   ]
  },
  {
   "cell_type": "markdown",
   "metadata": {},
   "source": [
    "Environments contain **_brains_** which are responsible for deciding the actions of their associated agents. Here we check for the first brain available, and set it as the default brain we will be controlling from Python."
   ]
  },
  {
   "cell_type": "code",
   "execution_count": 2,
   "metadata": {},
   "outputs": [],
   "source": [
    "# get the default brain\n",
    "brain_name = env.brain_names[0]\n",
    "brain = env.brains[brain_name]"
   ]
  },
  {
   "cell_type": "markdown",
   "metadata": {},
   "source": [
    "### 2. Examine the State and Action Spaces\n",
    "\n",
    "Run the code cell below to print some information about the environment."
   ]
  },
  {
   "cell_type": "code",
   "execution_count": 3,
   "metadata": {},
   "outputs": [
    {
     "name": "stdout",
     "output_type": "stream",
     "text": [
      "Number of agents: 1\n",
      "Number of actions: 4\n",
      "States look like: [1.         0.         0.         0.         0.84408134 0.\n",
      " 0.         1.         0.         0.0748472  0.         1.\n",
      " 0.         0.         0.25755    1.         0.         0.\n",
      " 0.         0.74177343 0.         1.         0.         0.\n",
      " 0.25854847 0.         0.         1.         0.         0.09355672\n",
      " 0.         1.         0.         0.         0.31969345 0.\n",
      " 0.        ]\n",
      "States have length: 37\n"
     ]
    }
   ],
   "source": [
    "# reset the environment\n",
    "env_info = env.reset(train_mode=True)[brain_name]\n",
    "\n",
    "# number of agents in the environment\n",
    "print('Number of agents:', len(env_info.agents))\n",
    "\n",
    "# number of actions\n",
    "action_size = brain.vector_action_space_size\n",
    "print('Number of actions:', action_size)\n",
    "\n",
    "# examine the state space \n",
    "state = env_info.vector_observations[0]\n",
    "print('States look like:', state)\n",
    "state_size = len(state)\n",
    "print('States have length:', state_size)"
   ]
  },
  {
   "cell_type": "markdown",
   "metadata": {},
   "source": [
    "### 3. Take Random Actions in the Environment\n",
    "\n",
    "In the next code cell, you will learn how to use the Python API to control the agent and receive feedback from the environment.\n",
    "\n",
    "Note that **in this coding environment, you will not be able to watch the agent while it is training**, and you should set `train_mode=True` to restart the environment."
   ]
  },
  {
   "cell_type": "code",
   "execution_count": 4,
   "metadata": {},
   "outputs": [
    {
     "name": "stdout",
     "output_type": "stream",
     "text": [
      "Score: 0.0\n"
     ]
    }
   ],
   "source": [
    "env_info = env.reset(train_mode=True)[brain_name] # reset the environment\n",
    "state = env_info.vector_observations[0]            # get the current state\n",
    "score = 0                                          # initialize the score\n",
    "while True:\n",
    "    action = np.random.randint(action_size)        # select an action\n",
    "    env_info = env.step(action)[brain_name]        # send the action to the environment\n",
    "    next_state = env_info.vector_observations[0]   # get the next state\n",
    "    reward = env_info.rewards[0]                   # get the reward\n",
    "    done = env_info.local_done[0]                  # see if episode has finished\n",
    "    score += reward                                # update the score\n",
    "    state = next_state                             # roll over the state to next time step\n",
    "    if done:                                       # exit loop if episode finished\n",
    "        break\n",
    "    \n",
    "print(\"Score: {}\".format(score))"
   ]
  },
  {
   "cell_type": "markdown",
   "metadata": {},
   "source": [
    "When finished, you can close the environment."
   ]
  },
  {
   "cell_type": "code",
   "execution_count": 12,
   "metadata": {},
   "outputs": [],
   "source": [
    "# env.close()"
   ]
  },
  {
   "cell_type": "markdown",
   "metadata": {},
   "source": [
    "### 4. It's Your Turn!\n",
    "\n",
    "Now it's your turn to train your own agent to solve the environment!  A few **important notes**:\n",
    "- When training the environment, set `train_mode=True`, so that the line for resetting the environment looks like the following:\n",
    "```python\n",
    "env_info = env.reset(train_mode=True)[brain_name]\n",
    "```\n",
    "- To structure your work, you're welcome to work directly in this Jupyter notebook, or you might like to start over with a new file!  You can see the list of files in the workspace by clicking on **_Jupyter_** in the top left corner of the notebook.\n",
    "- In this coding environment, you will not be able to watch the agent while it is training.  However, **_after training the agent_**, you can download the saved model weights to watch the agent on your own machine! "
   ]
  },
  {
   "cell_type": "code",
   "execution_count": 5,
   "metadata": {},
   "outputs": [],
   "source": [
    "import torch\n",
    "from torch import nn, optim\n",
    "from collections import deque\n",
    "import random\n",
    "\n",
    "device = torch.device(\"cuda:0\" if torch.cuda.is_available() else \"cpu\")"
   ]
  },
  {
   "cell_type": "code",
   "execution_count": 6,
   "metadata": {},
   "outputs": [],
   "source": [
    "class QModel(nn.Module):\n",
    "    def __init__(self, state_size=37, actions_size=4, hidden_size=64):\n",
    "        super(QModel, self).__init__()\n",
    "        self.model = nn.Sequential(\n",
    "            nn.Linear(state_size, hidden_size),\n",
    "            nn.ELU(),\n",
    "            nn.Linear(hidden_size, hidden_size),\n",
    "            nn.ELU(),\n",
    "            nn.Linear(hidden_size, actions_size),\n",
    "        )\n",
    "    \n",
    "    def update_weights(self, source_model, tau):\n",
    "        for target_param, local_param in zip(self.parameters(), source_model.parameters()):\n",
    "            target_param.data.copy_(tau*local_param.data + (1.0-tau)*target_param.data)\n",
    "        \n",
    "    def forward(self, x):\n",
    "        return self.model(x)\n",
    "        \n",
    "\n",
    "class Agent:\n",
    "    def __init__(self, lr=0.002, gamma=0.99, tau=0.002):\n",
    "        self.qnet = QModel()\n",
    "        self.qnet_target = QModel()\n",
    "        self.qnet_target.update_weights(self.qnet, tau=1.0) # tau=1.0 to initialize the target model with same values\n",
    "        \n",
    "        self.lr = lr\n",
    "        self.gamma = gamma\n",
    "        self.tau = tau\n",
    "        \n",
    "        self.optimizer = optim.Adam(self.qnet.parameters(), lr=self.lr)\n",
    "        \n",
    "    def learn(self, replay_buffer, update_target=True): \n",
    "        states, actions, rewards, next_states, dones = replay_buffer.sample()\n",
    "        \n",
    "        with torch.no_grad():\n",
    "            next_max_sv = self.qnet_target(next_states).detach().max(dim=-1, keepdim=True)[0]\n",
    "        targets = rewards + self.gamma * next_max_sv * (1 - dones)\n",
    "\n",
    "        preds = self.qnet(states).gather(-1, actions)\n",
    "        loss = nn.functional.mse_loss(preds, targets)\n",
    "                \n",
    "        self.optimizer.zero_grad()\n",
    "        loss.backward()\n",
    "        self.optimizer.step()\n",
    "        \n",
    "        if update_target:\n",
    "            self.qnet_target.update_weights(self.qnet, tau=self.tau)\n",
    "            \n",
    "    def pick_action(self, state, epsilon=0.):\n",
    "        state = torch.tensor([state]).float().to(device)\n",
    "        \n",
    "        dice_roll = np.random.uniform(0.0, 1.0)\n",
    "        if dice_roll > epsilon: # greedy sampling\n",
    "            with torch.no_grad():\n",
    "                return self.qnet(state).argmax(dim=-1).item()\n",
    "        else: # random sampling\n",
    "            return np.random.randint(0, 4)\n",
    "        \n",
    "    \n",
    "class ReplayBuffer:\n",
    "    def __init__(self, buffer_size=1e5, batch_size=128):\n",
    "        self.batch_size = batch_size\n",
    "        self.buffer = deque(maxlen=int(buffer_size))  \n",
    "    \n",
    "    def add(self, state, action, reward, next_state, done):\n",
    "        self.buffer.append((state, action, reward, next_state, done))       \n",
    "    \n",
    "    def sample(self):\n",
    "        if len(self.buffer) < self.batch_size:\n",
    "            sampled_idx = list(range(len(self.buffer)))\n",
    "        else:\n",
    "            sampled_idx = random.sample(list(range(len(self.buffer))), k=self.batch_size)\n",
    "            \n",
    "        sampled = np.array(self.buffer)[sampled_idx]\n",
    "        states, actions, rewards, next_states, dones = zip(*sampled)\n",
    "        \n",
    "        states = torch.tensor(states).float().to(device)\n",
    "        actions = torch.tensor(actions).unsqueeze(-1).long().to(device)\n",
    "        rewards = torch.tensor(rewards).unsqueeze(-1).float().to(device)\n",
    "        next_states = torch.tensor(next_states).float().to(device)\n",
    "        dones = torch.tensor(dones).unsqueeze(-1).float().to(device)\n",
    "        \n",
    "        return states, actions, rewards, next_states, dones"
   ]
  },
  {
   "cell_type": "code",
   "execution_count": 7,
   "metadata": {},
   "outputs": [],
   "source": [
    "agent = Agent()"
   ]
  },
  {
   "cell_type": "code",
   "execution_count": 8,
   "metadata": {},
   "outputs": [
    {
     "name": "stdout",
     "output_type": "stream",
     "text": [
      "100 - Last 100 avg score: 2.06 (eps 0.3660)\n",
      "200 - Last 100 avg score: 8.28 (eps 0.1340)\n",
      "300 - Last 100 avg score: 11.5 (eps 0.0490)\n",
      "Environement solved in 297 episodes - Last 100 avg score: 13.02 (eps 0.0185)\n",
      "400 - Last 100 avg score: 13.04 (eps 0.0180)\n",
      "500 - Last 100 avg score: 12.97 (eps 0.0066)\n"
     ]
    }
   ],
   "source": [
    "episodes = 500\n",
    "update_every = 4\n",
    "\n",
    "scores = []\n",
    "replay_buffer = ReplayBuffer()\n",
    "\n",
    "step = 1\n",
    "eps = 1.0\n",
    "eps_decay = 0.99\n",
    "target_avg_score = 13\n",
    "solved = False\n",
    "\n",
    "for e in range(1, episodes+1):\n",
    "    env_info = env.reset(train_mode=True)[brain_name] \n",
    "    state = env_info.vector_observations[0] \n",
    "    score = 0 \n",
    "    while True:\n",
    "        # choose an action\n",
    "        action = agent.pick_action(state, epsilon=eps)\n",
    "        \n",
    "        # environment responds to the action\n",
    "        env_info = env.step(action)[brain_name]\n",
    "        next_state = env_info.vector_observations[0]\n",
    "        reward = env_info.rewards[0]\n",
    "        done = env_info.local_done[0]\n",
    "        \n",
    "        # save state to replay buffer\n",
    "        replay_buffer.add(state, action, reward, next_state, done)\n",
    "        \n",
    "        if step == 0:\n",
    "            agent.learn(replay_buffer)\n",
    "        \n",
    "        score += reward\n",
    "        step = (step+1) % update_every\n",
    "        state = next_state\n",
    "        if done:\n",
    "            break\n",
    "    \n",
    "    eps = eps*eps_decay\n",
    "        \n",
    "    scores.append(score)\n",
    "    last100_avg_score = np.mean(scores[-100:])\n",
    "    \n",
    "    if not solved and last100_avg_score > target_avg_score:\n",
    "        solved = True\n",
    "        print(f\"Environement solved in {e-100} episodes - Last 100 avg score: {last100_avg_score} (eps {eps:.4f})\")\n",
    "    \n",
    "    if e % 100 == 0:\n",
    "        print(f\"{e} - Last 100 avg score: {last100_avg_score} (eps {eps:.4f})\")"
   ]
  },
  {
   "cell_type": "code",
   "execution_count": 9,
   "metadata": {},
   "outputs": [],
   "source": [
    "torch.save((agent.qnet.state_dict(), agent.qnet_target.state_dict()), \"qnet_models.pt\")"
   ]
  },
  {
   "cell_type": "code",
   "execution_count": 11,
   "metadata": {},
   "outputs": [
    {
     "data": {
      "image/png": "[encoded data removed]",
      "text/plain": [
       "<matplotlib.figure.Figure at 0x11e799c88>"
      ]
     },
     "metadata": {
      "needs_background": "light"
     },
     "output_type": "display_data"
    }
   ],
   "source": [
    "import matplotlib.pyplot as plt\n",
    "\n",
    "averaged_scores = [np.mean(scores[:i][-100:]) for i in range(1, len(scores))]\n",
    "\n",
    "plt.axhline(y=13, color='gray')\n",
    "plt.plot(scores)\n",
    "plt.plot(averaged_scores)\n",
    "plt.show()"
   ]
  },
  {
   "cell_type": "markdown",
   "metadata": {},
   "source": [
    "## Now load the trained model and perform a Test run"
   ]
  },
  {
   "cell_type": "code",
   "execution_count": 12,
   "metadata": {},
   "outputs": [
    {
     "data": {
      "text/plain": [
       "(QModel(\n",
       "   (model): Sequential(\n",
       "     (0): Linear(in_features=37, out_features=64, bias=True)\n",
       "     (1): ELU(alpha=1.0)\n",
       "     (2): Linear(in_features=64, out_features=64, bias=True)\n",
       "     (3): ELU(alpha=1.0)\n",
       "     (4): Linear(in_features=64, out_features=4, bias=True)\n",
       "   )\n",
       " ), QModel(\n",
       "   (model): Sequential(\n",
       "     (0): Linear(in_features=37, out_features=64, bias=True)\n",
       "     (1): ELU(alpha=1.0)\n",
       "     (2): Linear(in_features=64, out_features=64, bias=True)\n",
       "     (3): ELU(alpha=1.0)\n",
       "     (4): Linear(in_features=64, out_features=4, bias=True)\n",
       "   )\n",
       " ))"
      ]
     },
     "execution_count": 12,
     "metadata": {},
     "output_type": "execute_result"
    }
   ],
   "source": [
    "qnet_state_dict, qnet_target_state_dict = torch.load(\"qnet_models.pt\")\n",
    "\n",
    "agent.qnet.load_state_dict(qnet_state_dict)\n",
    "agent.qnet_target.load_state_dict(qnet_target_state_dict)\n",
    "\n",
    "agent.qnet.eval(), agent.qnet_target.eval()"
   ]
  },
  {
   "cell_type": "code",
   "execution_count": 14,
   "metadata": {},
   "outputs": [
    {
     "name": "stdout",
     "output_type": "stream",
     "text": [
      "Score: 17.0\n"
     ]
    }
   ],
   "source": [
    "env_info = env.reset(train_mode=False)[brain_name] # reset the environment\n",
    "state = env_info.vector_observations[0]            # get the current state\n",
    "score = 0                                          # initialize the score\n",
    "while True:\n",
    "    with torch.no_grad():\n",
    "        action = agent.pick_action(state)          # select an action\n",
    "    env_info = env.step(action)[brain_name]        # send the action to the environment\n",
    "    next_state = env_info.vector_observations[0]   # get the next state\n",
    "    reward = env_info.rewards[0]                   # get the reward\n",
    "    done = env_info.local_done[0]                  # see if episode has finished\n",
    "    score += reward                                # update the score\n",
    "    state = next_state                             # roll over the state to next time step\n",
    "    if done:                                       # exit loop if episode finished\n",
    "        break\n",
    "    \n",
    "print(\"Score: {}\".format(score))"
   ]
  },
  {
   "cell_type": "code",
   "execution_count": 15,
   "metadata": {},
   "outputs": [],
   "source": [
    "env.close()"
   ]
  },
  {
   "cell_type": "code",
   "execution_count": null,
   "metadata": {},
   "outputs": [],
   "source": []
  }
 ],
 "metadata": {
  "kernelspec": {
   "display_name": "Python 3",
   "language": "python",
   "name": "python3"
  },
  "language_info": {
   "codemirror_mode": {
    "name": "ipython",
    "version": 3
   },
   "file_extension": ".py",
   "mimetype": "text/x-python",
   "name": "python",
   "nbconvert_exporter": "python",
   "pygments_lexer": "ipython3",
   "version": "3.6.5"
  }
 },
 "nbformat": 4,
 "nbformat_minor": 2
}
