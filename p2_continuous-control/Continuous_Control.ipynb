{
 "cells": [
  {
   "cell_type": "markdown",
   "metadata": {},
   "source": [
    "# Continuous Control\n",
    "\n",
    "---\n",
    "\n",
    "You are welcome to use this coding environment to train your agent for the project.  Follow the instructions below to get started!\n",
    "\n",
    "### 1. Start the Environment\n",
    "\n",
    "Run the next code cell to install a few packages.  This line will take a few minutes to run!"
   ]
  },
  {
   "cell_type": "code",
   "execution_count": 1,
   "metadata": {},
   "outputs": [
    {
     "name": "stdout",
     "output_type": "stream",
     "text": [
      "\u001b[31mtensorflow 1.7.1 has requirement numpy>=1.13.3, but you'll have numpy 1.12.1 which is incompatible.\u001b[0m\r\n",
      "\u001b[31mipython 6.5.0 has requirement prompt-toolkit<2.0.0,>=1.0.15, but you'll have prompt-toolkit 2.0.10 which is incompatible.\u001b[0m\r\n"
     ]
    }
   ],
   "source": [
    "!pip -q install ./python"
   ]
  },
  {
   "cell_type": "markdown",
   "metadata": {},
   "source": [
    "The environments corresponding to both versions of the environment are already saved in the Workspace and can be accessed at the file paths provided below.  \n",
    "\n",
    "Please select one of the two options below for loading the environment."
   ]
  },
  {
   "cell_type": "code",
   "execution_count": 1,
   "metadata": {},
   "outputs": [
    {
     "name": "stderr",
     "output_type": "stream",
     "text": [
      "INFO:unityagents:\n",
      "'Academy' started successfully!\n",
      "Unity Academy name: Academy\n",
      "        Number of Brains: 1\n",
      "        Number of External Brains : 1\n",
      "        Lesson number : 0\n",
      "        Reset Parameters :\n",
      "\t\tgoal_speed -> 1.0\n",
      "\t\tgoal_size -> 5.0\n",
      "Unity brain name: ReacherBrain\n",
      "        Number of Visual Observations (per agent): 0\n",
      "        Vector Observation space type: continuous\n",
      "        Vector Observation space size (per agent): 33\n",
      "        Number of stacked Vector Observation: 1\n",
      "        Vector Action space type: continuous\n",
      "        Vector Action space size (per agent): 4\n",
      "        Vector Action descriptions: , , , \n"
     ]
    }
   ],
   "source": [
    "from unityagents import UnityEnvironment\n",
    "import numpy as np\n",
    "\n",
    "# select this option to load version 1 (with a single agent) of the environment\n",
    "# env = UnityEnvironment(file_name='/data/Reacher_One_Linux_NoVis/Reacher_One_Linux_NoVis.x86_64')\n",
    "\n",
    "# select this option to load version 2 (with 20 agents) of the environment\n",
    "env = UnityEnvironment(file_name='./Reacher')"
   ]
  },
  {
   "cell_type": "markdown",
   "metadata": {},
   "source": [
    "Environments contain **_brains_** which are responsible for deciding the actions of their associated agents. Here we check for the first brain available, and set it as the default brain we will be controlling from Python."
   ]
  },
  {
   "cell_type": "code",
   "execution_count": 2,
   "metadata": {},
   "outputs": [],
   "source": [
    "# get the default brain\n",
    "brain_name = env.brain_names[0]\n",
    "brain = env.brains[brain_name]"
   ]
  },
  {
   "cell_type": "markdown",
   "metadata": {},
   "source": [
    "### 2. Examine the State and Action Spaces\n",
    "\n",
    "Run the code cell below to print some information about the environment."
   ]
  },
  {
   "cell_type": "code",
   "execution_count": 3,
   "metadata": {},
   "outputs": [
    {
     "name": "stdout",
     "output_type": "stream",
     "text": [
      "Number of agents: 20\n",
      "Size of each action: 4\n",
      "There are 20 agents. Each observes a state with length: 33\n",
      "The state for the first agent looks like: [ 0.00000000e+00 -4.00000000e+00  0.00000000e+00  1.00000000e+00\n",
      " -0.00000000e+00 -0.00000000e+00 -4.37113883e-08  0.00000000e+00\n",
      "  0.00000000e+00  0.00000000e+00  0.00000000e+00  0.00000000e+00\n",
      "  0.00000000e+00  0.00000000e+00 -1.00000000e+01  0.00000000e+00\n",
      "  1.00000000e+00 -0.00000000e+00 -0.00000000e+00 -4.37113883e-08\n",
      "  0.00000000e+00  0.00000000e+00  0.00000000e+00  0.00000000e+00\n",
      "  0.00000000e+00  0.00000000e+00  5.75471878e+00 -1.00000000e+00\n",
      "  5.55726624e+00  0.00000000e+00  1.00000000e+00  0.00000000e+00\n",
      " -1.68164849e-01]\n"
     ]
    }
   ],
   "source": [
    "# reset the environment\n",
    "env_info = env.reset(train_mode=True)[brain_name]\n",
    "\n",
    "# number of agents\n",
    "num_agents = len(env_info.agents)\n",
    "print('Number of agents:', num_agents)\n",
    "\n",
    "# size of each action\n",
    "action_size = brain.vector_action_space_size\n",
    "print('Size of each action:', action_size)\n",
    "\n",
    "# examine the state space \n",
    "states = env_info.vector_observations\n",
    "state_size = states.shape[1]\n",
    "print('There are {} agents. Each observes a state with length: {}'.format(states.shape[0], state_size))\n",
    "print('The state for the first agent looks like:', states[0])"
   ]
  },
  {
   "cell_type": "markdown",
   "metadata": {},
   "source": [
    "### 3. Take Random Actions in the Environment\n",
    "\n",
    "In the next code cell, you will learn how to use the Python API to control the agent and receive feedback from the environment.\n",
    "\n",
    "Note that **in this coding environment, you will not be able to watch the agents while they are training**, and you should set `train_mode=True` to restart the environment."
   ]
  },
  {
   "cell_type": "code",
   "execution_count": 4,
   "metadata": {},
   "outputs": [
    {
     "name": "stdout",
     "output_type": "stream",
     "text": [
      "Total score (averaged over agents) this episode: 0.2059999953955412\n"
     ]
    }
   ],
   "source": [
    "env_info = env.reset(train_mode=True)[brain_name]      # reset the environment    \n",
    "states = env_info.vector_observations                  # get the current state (for each agent)\n",
    "scores = np.zeros(num_agents)                          # initialize the score (for each agent)\n",
    "while True:\n",
    "    actions = np.random.randn(num_agents, action_size) # select an action (for each agent)\n",
    "    actions = np.clip(actions, -1, 1)                  # all actions between -1 and 1\n",
    "    env_info = env.step(actions)[brain_name]           # send all actions to tne environment\n",
    "    next_states = env_info.vector_observations         # get next state (for each agent)\n",
    "    rewards = env_info.rewards                         # get reward (for each agent)\n",
    "    dones = env_info.local_done                        # see if episode finished\n",
    "    scores += env_info.rewards                         # update the score (for each agent)\n",
    "    states = next_states                               # roll over states to next time step\n",
    "    if np.any(dones):                                  # exit loop if episode finished\n",
    "        break\n",
    "print('Total score (averaged over agents) this episode: {}'.format(np.mean(scores)))"
   ]
  },
  {
   "cell_type": "markdown",
   "metadata": {},
   "source": [
    "When finished, you can close the environment."
   ]
  },
  {
   "cell_type": "code",
   "execution_count": 13,
   "metadata": {},
   "outputs": [],
   "source": [
    "env.close()"
   ]
  },
  {
   "cell_type": "markdown",
   "metadata": {},
   "source": [
    "### 4. It's Your Turn!\n",
    "\n",
    "Now it's your turn to train your own agent to solve the environment!  A few **important notes**:\n",
    "- When training the environment, set `train_mode=True`, so that the line for resetting the environment looks like the following:\n",
    "```python\n",
    "env_info = env.reset(train_mode=True)[brain_name]\n",
    "```\n",
    "- To structure your work, you're welcome to work directly in this Jupyter notebook, or you might like to start over with a new file!  You can see the list of files in the workspace by clicking on **_Jupyter_** in the top left corner of the notebook.\n",
    "- In this coding environment, you will not be able to watch the agents while they are training.  However, **_after training the agents_**, you can download the saved model weights to watch the agents on your own machine! "
   ]
  },
  {
   "cell_type": "code",
   "execution_count": 5,
   "metadata": {},
   "outputs": [],
   "source": [
    "from ddpg_agent import Agent \n",
    "from collections import deque\n",
    "import time\n",
    "import torch\n",
    "import matplotlib.pyplot as plt"
   ]
  },
  {
   "cell_type": "code",
   "execution_count": 6,
   "metadata": {},
   "outputs": [],
   "source": [
    "agent = Agent(state_size=state_size, action_size=action_size, num_agents=num_agents, random_seed=42)"
   ]
  },
  {
   "cell_type": "code",
   "execution_count": 7,
   "metadata": {
    "scrolled": false
   },
   "outputs": [
    {
     "name": "stdout",
     "output_type": "stream",
     "text": [
      "Episode 1 (31s)\tMean: 0.7\tMoving Avg: 0.7\n",
      "Episode 2 (31s)\tMean: 0.8\tMoving Avg: 0.7\n",
      "Episode 3 (31s)\tMean: 1.3\tMoving Avg: 0.9\n",
      "Episode 4 (32s)\tMean: 1.2\tMoving Avg: 1.0\n",
      "Episode 5 (32s)\tMean: 1.4\tMoving Avg: 1.1\n",
      "Episode 6 (32s)\tMean: 1.9\tMoving Avg: 1.2\n",
      "Episode 7 (32s)\tMean: 2.9\tMoving Avg: 1.5\n",
      "Episode 8 (33s)\tMean: 3.0\tMoving Avg: 1.6\n",
      "Episode 9 (32s)\tMean: 3.1\tMoving Avg: 1.8\n",
      "Episode 10 (33s)\tMean: 3.7\tMoving Avg: 2.0\n",
      "Episode 11 (33s)\tMean: 3.6\tMoving Avg: 2.1\n",
      "Episode 12 (34s)\tMean: 4.7\tMoving Avg: 2.4\n",
      "Episode 13 (34s)\tMean: 4.4\tMoving Avg: 2.5\n",
      "Episode 14 (34s)\tMean: 5.8\tMoving Avg: 2.8\n",
      "Episode 15 (34s)\tMean: 6.0\tMoving Avg: 3.0\n",
      "Episode 16 (35s)\tMean: 6.4\tMoving Avg: 3.2\n",
      "Episode 17 (35s)\tMean: 7.1\tMoving Avg: 3.4\n",
      "Episode 18 (36s)\tMean: 7.8\tMoving Avg: 3.7\n",
      "Episode 19 (36s)\tMean: 9.2\tMoving Avg: 3.9\n",
      "Episode 20 (36s)\tMean: 8.5\tMoving Avg: 4.2\n",
      "Episode 21 (37s)\tMean: 9.4\tMoving Avg: 4.4\n",
      "Episode 22 (38s)\tMean: 8.9\tMoving Avg: 4.6\n",
      "Episode 23 (38s)\tMean: 10.3\tMoving Avg: 4.9\n",
      "Episode 24 (38s)\tMean: 9.2\tMoving Avg: 5.1\n",
      "Episode 25 (39s)\tMean: 9.6\tMoving Avg: 5.2\n",
      "Episode 26 (39s)\tMean: 10.8\tMoving Avg: 5.4\n",
      "Episode 27 (40s)\tMean: 12.4\tMoving Avg: 5.7\n",
      "Episode 28 (41s)\tMean: 13.0\tMoving Avg: 6.0\n",
      "Episode 29 (41s)\tMean: 14.0\tMoving Avg: 6.2\n",
      "Episode 30 (42s)\tMean: 11.9\tMoving Avg: 6.4\n",
      "Episode 31 (42s)\tMean: 14.3\tMoving Avg: 6.7\n",
      "Episode 32 (42s)\tMean: 14.8\tMoving Avg: 6.9\n",
      "Episode 33 (43s)\tMean: 15.2\tMoving Avg: 7.2\n",
      "Episode 34 (43s)\tMean: 16.4\tMoving Avg: 7.5\n",
      "Episode 35 (44s)\tMean: 16.8\tMoving Avg: 7.7\n",
      "Episode 36 (44s)\tMean: 17.0\tMoving Avg: 8.0\n",
      "Episode 37 (45s)\tMean: 19.4\tMoving Avg: 8.3\n",
      "Episode 38 (45s)\tMean: 21.9\tMoving Avg: 8.7\n",
      "Episode 39 (46s)\tMean: 19.6\tMoving Avg: 8.9\n",
      "Episode 40 (46s)\tMean: 19.4\tMoving Avg: 9.2\n",
      "Episode 41 (47s)\tMean: 19.6\tMoving Avg: 9.4\n",
      "Episode 42 (47s)\tMean: 20.9\tMoving Avg: 9.7\n",
      "Episode 43 (48s)\tMean: 24.0\tMoving Avg: 10.1\n",
      "Episode 44 (49s)\tMean: 23.1\tMoving Avg: 10.3\n",
      "Episode 45 (49s)\tMean: 24.8\tMoving Avg: 10.7\n",
      "Episode 46 (49s)\tMean: 25.0\tMoving Avg: 11.0\n",
      "Episode 47 (49s)\tMean: 24.2\tMoving Avg: 11.3\n",
      "Episode 48 (50s)\tMean: 25.1\tMoving Avg: 11.6\n",
      "Episode 49 (50s)\tMean: 28.2\tMoving Avg: 11.9\n",
      "Episode 50 (51s)\tMean: 28.1\tMoving Avg: 12.2\n",
      "Episode 51 (51s)\tMean: 26.9\tMoving Avg: 12.5\n",
      "Episode 52 (51s)\tMean: 29.7\tMoving Avg: 12.8\n",
      "Episode 53 (51s)\tMean: 30.7\tMoving Avg: 13.2\n",
      "Episode 54 (52s)\tMean: 33.6\tMoving Avg: 13.6\n",
      "Episode 55 (51s)\tMean: 34.2\tMoving Avg: 13.9\n",
      "Episode 56 (52s)\tMean: 36.5\tMoving Avg: 14.3\n",
      "Episode 57 (51s)\tMean: 35.2\tMoving Avg: 14.7\n",
      "Episode 58 (51s)\tMean: 35.0\tMoving Avg: 15.0\n",
      "Episode 59 (52s)\tMean: 36.2\tMoving Avg: 15.4\n",
      "Episode 60 (52s)\tMean: 36.4\tMoving Avg: 15.8\n",
      "Episode 61 (51s)\tMean: 35.9\tMoving Avg: 16.1\n",
      "Episode 62 (52s)\tMean: 36.7\tMoving Avg: 16.4\n",
      "Episode 63 (51s)\tMean: 37.9\tMoving Avg: 16.8\n",
      "Episode 64 (51s)\tMean: 37.6\tMoving Avg: 17.1\n",
      "Episode 65 (51s)\tMean: 37.8\tMoving Avg: 17.4\n",
      "Episode 66 (51s)\tMean: 38.4\tMoving Avg: 17.7\n",
      "Episode 67 (51s)\tMean: 38.8\tMoving Avg: 18.0\n",
      "Episode 68 (51s)\tMean: 38.8\tMoving Avg: 18.3\n",
      "Episode 69 (51s)\tMean: 38.8\tMoving Avg: 18.6\n",
      "Episode 70 (51s)\tMean: 38.7\tMoving Avg: 18.9\n",
      "Episode 71 (51s)\tMean: 39.2\tMoving Avg: 19.2\n",
      "Episode 72 (51s)\tMean: 39.1\tMoving Avg: 19.5\n",
      "Episode 73 (51s)\tMean: 38.8\tMoving Avg: 19.8\n",
      "Episode 74 (52s)\tMean: 38.4\tMoving Avg: 20.0\n",
      "Episode 75 (51s)\tMean: 38.5\tMoving Avg: 20.2\n",
      "Episode 76 (51s)\tMean: 39.0\tMoving Avg: 20.5\n",
      "Episode 77 (51s)\tMean: 39.2\tMoving Avg: 20.7\n",
      "Episode 78 (52s)\tMean: 39.2\tMoving Avg: 21.0\n",
      "Episode 79 (51s)\tMean: 39.0\tMoving Avg: 21.2\n",
      "Episode 80 (52s)\tMean: 38.9\tMoving Avg: 21.4\n",
      "Episode 81 (51s)\tMean: 38.3\tMoving Avg: 21.6\n",
      "Episode 82 (51s)\tMean: 38.7\tMoving Avg: 21.8\n",
      "Episode 83 (51s)\tMean: 38.3\tMoving Avg: 22.0\n",
      "Episode 84 (51s)\tMean: 39.1\tMoving Avg: 22.2\n",
      "Episode 85 (51s)\tMean: 39.1\tMoving Avg: 22.4\n",
      "Episode 86 (51s)\tMean: 39.2\tMoving Avg: 22.6\n",
      "Episode 87 (51s)\tMean: 38.4\tMoving Avg: 22.8\n",
      "Episode 88 (51s)\tMean: 39.2\tMoving Avg: 23.0\n",
      "Episode 89 (50s)\tMean: 39.1\tMoving Avg: 23.2\n",
      "Episode 90 (50s)\tMean: 38.9\tMoving Avg: 23.4\n",
      "Episode 91 (50s)\tMean: 38.7\tMoving Avg: 23.5\n",
      "Episode 92 (51s)\tMean: 39.0\tMoving Avg: 23.7\n",
      "Episode 93 (52s)\tMean: 38.8\tMoving Avg: 23.9\n",
      "Episode 94 (51s)\tMean: 38.8\tMoving Avg: 24.0\n",
      "Episode 95 (51s)\tMean: 38.9\tMoving Avg: 24.2\n",
      "Episode 96 (51s)\tMean: 38.7\tMoving Avg: 24.3\n",
      "Episode 97 (50s)\tMean: 37.7\tMoving Avg: 24.5\n",
      "Episode 98 (51s)\tMean: 38.9\tMoving Avg: 24.6\n",
      "Episode 99 (51s)\tMean: 38.1\tMoving Avg: 24.7\n",
      "Episode 100 (51s)\tMean: 38.2\tMoving Avg: 24.9\n",
      "Episode 101 (51s)\tMean: 38.9\tMoving Avg: 25.3\n",
      "Episode 102 (51s)\tMean: 37.6\tMoving Avg: 25.6\n",
      "Episode 103 (51s)\tMean: 38.4\tMoving Avg: 26.0\n",
      "Episode 104 (50s)\tMean: 37.8\tMoving Avg: 26.4\n",
      "Episode 105 (51s)\tMean: 38.3\tMoving Avg: 26.7\n",
      "Episode 106 (51s)\tMean: 37.9\tMoving Avg: 27.1\n",
      "Episode 107 (51s)\tMean: 37.4\tMoving Avg: 27.4\n",
      "Episode 108 (51s)\tMean: 36.9\tMoving Avg: 27.8\n",
      "Episode 109 (51s)\tMean: 38.5\tMoving Avg: 28.1\n",
      "Episode 110 (51s)\tMean: 38.6\tMoving Avg: 28.5\n",
      "Episode 111 (51s)\tMean: 38.0\tMoving Avg: 28.8\n",
      "Episode 112 (51s)\tMean: 37.4\tMoving Avg: 29.2\n",
      "Episode 113 (51s)\tMean: 38.3\tMoving Avg: 29.5\n",
      "Episode 114 (51s)\tMean: 39.2\tMoving Avg: 29.8\n",
      "Episode 115 (50s)\tMean: 38.7\tMoving Avg: 30.2\n",
      "\n",
      "Environment solved in 15 episodes!\tAverage Score: 30.15\n",
      "CPU times: user 1h 22min 13s, sys: 1min 49s, total: 1h 24min 3s\n",
      "Wall time: 1h 28min 30s\n"
     ]
    }
   ],
   "source": [
    "%%time\n",
    "\n",
    "episodes = 1000\n",
    "timesteps = 1000 \n",
    "print_every = 1\n",
    "\n",
    "mean_scores = []\n",
    "moving_avgs = []\n",
    "best_score  = -np.inf\n",
    "scores_window = deque(maxlen=100)\n",
    "\n",
    "for i_episode in range(1, episodes+1):\n",
    "    env_info = env.reset(train_mode=True)[brain_name]\n",
    "    states = env_info.vector_observations\n",
    "    scores = np.zeros(num_agents)\n",
    "    agent.reset()\n",
    "    start_time = time.time()\n",
    "    for t in range(timesteps):\n",
    "        actions = agent.act(states, add_noise=True) \n",
    "        env_info = env.step(actions)[brain_name]\n",
    "        next_states = env_info.vector_observations \n",
    "        rewards = env_info.rewards\n",
    "        dones = env_info.local_done\n",
    "            \n",
    "        agent.step(states, actions, rewards, next_states, dones, t)             \n",
    "        states = next_states\n",
    "        scores += rewards        \n",
    "        if np.any(dones):\n",
    "            break\n",
    "\n",
    "    duration = time.time() - start_time\n",
    "    mean_scores.append(np.mean(scores))\n",
    "    scores_window.append(mean_scores[-1])\n",
    "    moving_avgs.append(np.mean(scores_window))\n",
    "\n",
    "    if i_episode % print_every == 0:\n",
    "        print('\\rEpisode {} ({}s)\\tMean: {:.1f}\\tMoving Avg: {:.1f}'.format(\\\n",
    "              i_episode, round(duration), mean_scores[-1], moving_avgs[-1]))\n",
    "\n",
    "    if moving_avgs[-1] >= 30.0 and i_episode >= 100:\n",
    "        print('\\nEnvironment solved in {:d} episodes!\\tAverage Score: {:.2f}'.format(i_episode-100, moving_avgs[-1]))            \n",
    "        break"
   ]
  },
  {
   "cell_type": "code",
   "execution_count": 8,
   "metadata": {},
   "outputs": [],
   "source": [
    "torch.save({\n",
    "    \"actor_local\": agent.actor_local.state_dict(),\n",
    "    \"actor_target\": agent.actor_target.state_dict(),\n",
    "    \"critic_local\": agent.critic_local.state_dict(),\n",
    "    \"critic_target\": agent.critic_target.state_dict()\n",
    "}, \"checkpoint.pt\")"
   ]
  },
  {
   "cell_type": "code",
   "execution_count": 9,
   "metadata": {},
   "outputs": [
    {
     "data": {
      "image/png": "[encoded data removed]",
      "text/plain": [
       "<matplotlib.figure.Figure at 0x7f04b9fa7dd8>"
      ]
     },
     "metadata": {
      "needs_background": "light"
     },
     "output_type": "display_data"
    }
   ],
   "source": [
    "# plot the scores\n",
    "fig = plt.figure()\n",
    "ax = fig.add_subplot(111)\n",
    "plt.plot(np.arange(len(mean_scores)), mean_scores, label='DDPG')\n",
    "plt.plot(np.arange(len(mean_scores)), moving_avgs, c='r', label='Moving AVG')\n",
    "plt.ylabel('Score')\n",
    "plt.xlabel('Episode #')\n",
    "plt.legend(loc='upper left');\n",
    "plt.show()"
   ]
  },
  {
   "cell_type": "code",
   "execution_count": 7,
   "metadata": {},
   "outputs": [
    {
     "data": {
      "text/plain": [
       "<All keys matched successfully>"
      ]
     },
     "execution_count": 7,
     "metadata": {},
     "output_type": "execute_result"
    }
   ],
   "source": [
    "# Reload model from checkpoint\n",
    "checkpoint = torch.load(\"checkpoint.pt\", map_location=\"cpu\")\n",
    "\n",
    "agent.reset()\n",
    "agent.actor_local.load_state_dict(checkpoint[\"actor_local\"])\n",
    "agent.actor_target.load_state_dict(checkpoint[\"actor_target\"])\n",
    "agent.critic_local.load_state_dict(checkpoint[\"critic_local\"])\n",
    "agent.critic_target.load_state_dict(checkpoint[\"critic_target\"])"
   ]
  },
  {
   "cell_type": "code",
   "execution_count": 8,
   "metadata": {},
   "outputs": [
    {
     "name": "stderr",
     "output_type": "stream",
     "text": [
      "/usr/local/lib/python3.6/site-packages/torch/nn/functional.py:1339: UserWarning: nn.functional.tanh is deprecated. Use torch.tanh instead.\n",
      "  warnings.warn(\"nn.functional.tanh is deprecated. Use torch.tanh instead.\")\n"
     ]
    },
    {
     "name": "stdout",
     "output_type": "stream",
     "text": [
      "Total score (averaged over agents) this episode: 39.48199911750853\n"
     ]
    }
   ],
   "source": [
    "env_info = env.reset(train_mode=False)[brain_name]     # reset the environment    \n",
    "states = env_info.vector_observations                  # get the current state (for each agent)\n",
    "scores = np.zeros(num_agents)                          # initialize the score (for each agent)\n",
    "while True:\n",
    "    actions = agent.act(states, add_noise=False)       # select an action using the trained agent\n",
    "    env_info = env.step(actions)[brain_name]           # send all actions to tne environment\n",
    "    next_states = env_info.vector_observations         # get next state (for each agent)\n",
    "    rewards = env_info.rewards                         # get reward (for each agent)\n",
    "    dones = env_info.local_done                        # see if episode finished\n",
    "    scores += env_info.rewards                         # update the score (for each agent)\n",
    "    states = next_states                               # roll over states to next time step\n",
    "    if np.any(dones):                                  # exit loop if episode finished\n",
    "        break\n",
    "print('Total score (averaged over agents) this episode: {}'.format(np.mean(scores)))"
   ]
  },
  {
   "cell_type": "code",
   "execution_count": 9,
   "metadata": {},
   "outputs": [],
   "source": [
    "env.close()"
   ]
  },
  {
   "cell_type": "code",
   "execution_count": null,
   "metadata": {},
   "outputs": [],
   "source": []
  }
 ],
 "metadata": {
  "kernelspec": {
   "display_name": "Python 3",
   "language": "python",
   "name": "python3"
  },
  "language_info": {
   "codemirror_mode": {
    "name": "ipython",
    "version": 3
   },
   "file_extension": ".py",
   "mimetype": "text/x-python",
   "name": "python",
   "nbconvert_exporter": "python",
   "pygments_lexer": "ipython3",
   "version": "3.6.5"
  }
 },
 "nbformat": 4,
 "nbformat_minor": 2
}
